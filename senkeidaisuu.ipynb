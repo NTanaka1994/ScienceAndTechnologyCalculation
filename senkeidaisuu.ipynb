{
 "cells": [
  {
   "cell_type": "code",
   "execution_count": 5,
   "id": "eaa5a913",
   "metadata": {},
   "outputs": [
    {
     "name": "stdout",
     "output_type": "stream",
     "text": [
      "2\n"
     ]
    },
    {
     "data": {
      "text/latex": [
       "$\\displaystyle 1.62131007404117$"
      ],
      "text/plain": [
       "1.62131007404117"
      ]
     },
     "execution_count": 5,
     "metadata": {},
     "output_type": "execute_result"
    }
   ],
   "source": [
    "import sympy as sym\n",
    "A=sym.Matrix([[3,2],[-3,5]])\n",
    "print(A.rank())\n",
    "A.condition_number().evalf()"
   ]
  },
  {
   "cell_type": "code",
   "execution_count": 7,
   "id": "0be2a19b",
   "metadata": {},
   "outputs": [
    {
     "data": {
      "text/latex": [
       "$\\displaystyle \\left[\\begin{matrix}22\\\\-29\\end{matrix}\\right]$"
      ],
      "text/plain": [
       "Matrix([\n",
       "[ 22],\n",
       "[-29]])"
      ]
     },
     "execution_count": 7,
     "metadata": {},
     "output_type": "execute_result"
    }
   ],
   "source": [
    "b=sym.Matrix([8,-1])\n",
    "A*b"
   ]
  },
  {
   "cell_type": "code",
   "execution_count": 8,
   "id": "7e33f458",
   "metadata": {},
   "outputs": [
    {
     "data": {
      "text/latex": [
       "$\\displaystyle \\left[\\begin{matrix}2\\\\1\\end{matrix}\\right]$"
      ],
      "text/plain": [
       "Matrix([\n",
       "[2],\n",
       "[1]])"
      ]
     },
     "execution_count": 8,
     "metadata": {},
     "output_type": "execute_result"
    }
   ],
   "source": [
    "A.solve(b,\"LU\")"
   ]
  },
  {
   "cell_type": "code",
   "execution_count": 10,
   "id": "3b77a886",
   "metadata": {},
   "outputs": [],
   "source": [
    "L,U,_=A.LUdecomposition()"
   ]
  },
  {
   "cell_type": "code",
   "execution_count": 15,
   "id": "45441789",
   "metadata": {},
   "outputs": [
    {
     "data": {
      "text/latex": [
       "$\\displaystyle \\left[\\begin{matrix}1 & 0\\\\-1 & 1\\end{matrix}\\right]$"
      ],
      "text/plain": [
       "Matrix([\n",
       "[ 1, 0],\n",
       "[-1, 1]])"
      ]
     },
     "execution_count": 15,
     "metadata": {},
     "output_type": "execute_result"
    }
   ],
   "source": [
    "L#上三角行列"
   ]
  },
  {
   "cell_type": "code",
   "execution_count": 16,
   "id": "8b7f9c7a",
   "metadata": {},
   "outputs": [
    {
     "data": {
      "text/latex": [
       "$\\displaystyle \\left[\\begin{matrix}3 & 2\\\\0 & 7\\end{matrix}\\right]$"
      ],
      "text/plain": [
       "Matrix([\n",
       "[3, 2],\n",
       "[0, 7]])"
      ]
     },
     "execution_count": 16,
     "metadata": {},
     "output_type": "execute_result"
    }
   ],
   "source": [
    "U#下三角行列"
   ]
  },
  {
   "cell_type": "code",
   "execution_count": 20,
   "id": "366c2e84",
   "metadata": {},
   "outputs": [
    {
     "name": "stdout",
     "output_type": "stream",
     "text": [
      "[1.+0.j 5.+0.j]\n",
      "[[-0.9486833  -0.70710678]\n",
      " [ 0.31622777 -0.70710678]]\n"
     ]
    }
   ],
   "source": [
    "import scipy.linalg as linalg\n",
    "A_s=np.array([[2,3],\n",
    "             [1,4]])\n",
    "w,X=linalg.eig(A_s)\n",
    "print(w)\n",
    "print(X)"
   ]
  },
  {
   "cell_type": "code",
   "execution_count": 22,
   "id": "df108746",
   "metadata": {},
   "outputs": [
    {
     "data": {
      "text/plain": [
       "array([[1.00000000e+00, 3.33066907e-16],\n",
       "       [0.00000000e+00, 5.00000000e+00]])"
      ]
     },
     "execution_count": 22,
     "metadata": {},
     "output_type": "execute_result"
    }
   ],
   "source": [
    "linalg.inv(X) @ A_s @ X"
   ]
  },
  {
   "cell_type": "code",
   "execution_count": 27,
   "id": "f1e9353a",
   "metadata": {},
   "outputs": [
    {
     "data": {
      "text/latex": [
       "$\\displaystyle \\left[\\begin{matrix}1 & 0\\\\0 & 5\\end{matrix}\\right]$"
      ],
      "text/plain": [
       "Matrix([\n",
       "[1, 0],\n",
       "[0, 5]])"
      ]
     },
     "execution_count": 27,
     "metadata": {},
     "output_type": "execute_result"
    }
   ],
   "source": [
    "A_s=sym.Matrix([[2,3],\n",
    "               [1,4]])\n",
    "X,D=A_s.diagonalize()\n",
    "D"
   ]
  },
  {
   "cell_type": "code",
   "execution_count": 28,
   "id": "94f8b91e",
   "metadata": {},
   "outputs": [
    {
     "data": {
      "text/latex": [
       "$\\displaystyle t$"
      ],
      "text/plain": [
       "t"
      ]
     },
     "execution_count": 28,
     "metadata": {},
     "output_type": "execute_result"
    }
   ],
   "source": []
  },
  {
   "cell_type": "code",
   "execution_count": null,
   "id": "f3695e42",
   "metadata": {},
   "outputs": [],
   "source": []
  }
 ],
 "metadata": {
  "kernelspec": {
   "display_name": "Python 3",
   "language": "python",
   "name": "python3"
  },
  "language_info": {
   "codemirror_mode": {
    "name": "ipython",
    "version": 3
   },
   "file_extension": ".py",
   "mimetype": "text/x-python",
   "name": "python",
   "nbconvert_exporter": "python",
   "pygments_lexer": "ipython3",
   "version": "3.8.8"
  }
 },
 "nbformat": 4,
 "nbformat_minor": 5
}
