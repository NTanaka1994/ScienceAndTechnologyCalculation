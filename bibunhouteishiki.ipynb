{
 "cells": [
  {
   "cell_type": "markdown",
   "id": "c7db3e19",
   "metadata": {},
   "source": [
    "慶応大学の問題\n",
    "http://web.sfc.keio.ac.jp/~kawazoe/math/book/d-chap12.pdf"
   ]
  },
  {
   "cell_type": "code",
   "execution_count": 30,
   "id": "ae103776",
   "metadata": {},
   "outputs": [],
   "source": [
    "from sympy import *\n",
    "x=symbols(\"x\")\n",
    "y=symbols(\"y\")"
   ]
  },
  {
   "cell_type": "code",
   "execution_count": 2,
   "id": "51050a15",
   "metadata": {},
   "outputs": [
    {
     "data": {
      "text/latex": [
       "$\\displaystyle x$"
      ],
      "text/plain": [
       "x"
      ]
     },
     "execution_count": 2,
     "metadata": {},
     "output_type": "execute_result"
    }
   ],
   "source": [
    "x"
   ]
  },
  {
   "cell_type": "code",
   "execution_count": 3,
   "id": "c9193267",
   "metadata": {},
   "outputs": [
    {
     "data": {
      "text/latex": [
       "$\\displaystyle y$"
      ],
      "text/plain": [
       "y"
      ]
     },
     "execution_count": 3,
     "metadata": {},
     "output_type": "execute_result"
    }
   ],
   "source": [
    "y"
   ]
  },
  {
   "cell_type": "code",
   "execution_count": 5,
   "id": "e910c9d6",
   "metadata": {},
   "outputs": [
    {
     "data": {
      "text/latex": [
       "$\\displaystyle - \\frac{1}{y}$"
      ],
      "text/plain": [
       "-1/y"
      ]
     },
     "execution_count": 5,
     "metadata": {},
     "output_type": "execute_result"
    }
   ],
   "source": [
    "import sympy as sym\n",
    "sym.integrate(1/(y**2))"
   ]
  },
  {
   "cell_type": "code",
   "execution_count": 6,
   "id": "c7885ee5",
   "metadata": {},
   "outputs": [
    {
     "data": {
      "text/latex": [
       "$\\displaystyle - \\frac{x^{2}}{2}$"
      ],
      "text/plain": [
       "-x**2/2"
      ]
     },
     "execution_count": 6,
     "metadata": {},
     "output_type": "execute_result"
    }
   ],
   "source": [
    "sym.integrate(-x)"
   ]
  },
  {
   "cell_type": "code",
   "execution_count": 7,
   "id": "b036f3ed",
   "metadata": {},
   "outputs": [
    {
     "data": {
      "text/latex": [
       "$\\displaystyle - e^{- y}$"
      ],
      "text/plain": [
       "-exp(-y)"
      ]
     },
     "execution_count": 7,
     "metadata": {},
     "output_type": "execute_result"
    }
   ],
   "source": [
    "sym.integrate(1/exp(y))"
   ]
  },
  {
   "cell_type": "code",
   "execution_count": 8,
   "id": "1a05c47e",
   "metadata": {},
   "outputs": [
    {
     "data": {
      "text/latex": [
       "$\\displaystyle e^{x}$"
      ],
      "text/plain": [
       "exp(x)"
      ]
     },
     "execution_count": 8,
     "metadata": {},
     "output_type": "execute_result"
    }
   ],
   "source": [
    "sym.integrate(exp(x))"
   ]
  },
  {
   "cell_type": "code",
   "execution_count": 9,
   "id": "30d49d3c",
   "metadata": {},
   "outputs": [
    {
     "data": {
      "text/latex": [
       "$\\displaystyle \\log{\\left(y \\right)}$"
      ],
      "text/plain": [
       "log(y)"
      ]
     },
     "execution_count": 9,
     "metadata": {},
     "output_type": "execute_result"
    }
   ],
   "source": [
    "sym.integrate(1/y)"
   ]
  },
  {
   "cell_type": "code",
   "execution_count": 10,
   "id": "226cb13b",
   "metadata": {},
   "outputs": [
    {
     "data": {
      "text/latex": [
       "$\\displaystyle \\frac{x^{2}}{2}$"
      ],
      "text/plain": [
       "x**2/2"
      ]
     },
     "execution_count": 10,
     "metadata": {},
     "output_type": "execute_result"
    }
   ],
   "source": [
    "sym.integrate(x)"
   ]
  },
  {
   "cell_type": "code",
   "execution_count": 11,
   "id": "a186f7d1",
   "metadata": {},
   "outputs": [
    {
     "data": {
      "text/latex": [
       "$\\displaystyle \\frac{y^{2}}{2}$"
      ],
      "text/plain": [
       "y**2/2"
      ]
     },
     "execution_count": 11,
     "metadata": {},
     "output_type": "execute_result"
    }
   ],
   "source": [
    "sym.integrate(y)"
   ]
  },
  {
   "cell_type": "code",
   "execution_count": 12,
   "id": "9c0765c8",
   "metadata": {},
   "outputs": [
    {
     "data": {
      "text/latex": [
       "$\\displaystyle - \\frac{x^{2}}{2}$"
      ],
      "text/plain": [
       "-x**2/2"
      ]
     },
     "execution_count": 12,
     "metadata": {},
     "output_type": "execute_result"
    }
   ],
   "source": [
    "sym.integrate(-x)"
   ]
  },
  {
   "cell_type": "code",
   "execution_count": 13,
   "id": "da445b1f",
   "metadata": {},
   "outputs": [
    {
     "data": {
      "text/latex": [
       "$\\displaystyle e^{y}$"
      ],
      "text/plain": [
       "exp(y)"
      ]
     },
     "execution_count": 13,
     "metadata": {},
     "output_type": "execute_result"
    }
   ],
   "source": [
    "sym.integrate(exp(y))"
   ]
  },
  {
   "cell_type": "code",
   "execution_count": 14,
   "id": "664fe0e2",
   "metadata": {},
   "outputs": [
    {
     "data": {
      "text/latex": [
       "$\\displaystyle e^{x}$"
      ],
      "text/plain": [
       "exp(x)"
      ]
     },
     "execution_count": 14,
     "metadata": {},
     "output_type": "execute_result"
    }
   ],
   "source": [
    "sym.integrate(exp(x))"
   ]
  },
  {
   "cell_type": "code",
   "execution_count": 15,
   "id": "49b71708",
   "metadata": {},
   "outputs": [
    {
     "data": {
      "text/latex": [
       "$\\displaystyle - \\frac{1}{y}$"
      ],
      "text/plain": [
       "-1/y"
      ]
     },
     "execution_count": 15,
     "metadata": {},
     "output_type": "execute_result"
    }
   ],
   "source": [
    "sym.integrate(1/(y**2))"
   ]
  },
  {
   "cell_type": "code",
   "execution_count": 16,
   "id": "bf384249",
   "metadata": {},
   "outputs": [
    {
     "data": {
      "text/latex": [
       "$\\displaystyle \\frac{x^{2}}{2}$"
      ],
      "text/plain": [
       "x**2/2"
      ]
     },
     "execution_count": 16,
     "metadata": {},
     "output_type": "execute_result"
    }
   ],
   "source": [
    "sym.integrate(x)"
   ]
  },
  {
   "cell_type": "code",
   "execution_count": 17,
   "id": "a35b7cbe",
   "metadata": {},
   "outputs": [
    {
     "data": {
      "text/latex": [
       "$\\displaystyle 2 \\sqrt{y}$"
      ],
      "text/plain": [
       "2*sqrt(y)"
      ]
     },
     "execution_count": 17,
     "metadata": {},
     "output_type": "execute_result"
    }
   ],
   "source": [
    "sym.integrate(1/sqrt(y))"
   ]
  },
  {
   "cell_type": "code",
   "execution_count": 19,
   "id": "5f199448",
   "metadata": {},
   "outputs": [
    {
     "data": {
      "text/latex": [
       "$\\displaystyle \\frac{x^{2}}{2}$"
      ],
      "text/plain": [
       "x**2/2"
      ]
     },
     "execution_count": 19,
     "metadata": {},
     "output_type": "execute_result"
    }
   ],
   "source": [
    "sym.integrate(x)"
   ]
  },
  {
   "cell_type": "code",
   "execution_count": 28,
   "id": "8faf4950",
   "metadata": {},
   "outputs": [
    {
     "data": {
      "image/png": "[encoded data removed]",
      "text/latex": [
       "$\\displaystyle y{\\left(x \\right)} = \\frac{\\left(2 C_{1} + x^{2}\\right)^{2}}{16}$"
      ],
      "text/plain": [
       "                  2\n",
       "       ⎛        2⎞ \n",
       "       ⎝2⋅C₁ + x ⎠ \n",
       "y(x) = ────────────\n",
       "            16     "
      ]
     },
     "execution_count": 28,
     "metadata": {},
     "output_type": "execute_result"
    }
   ],
   "source": [
    "sym.init_printing()\n",
    "sym.var('x, a, y')\n",
    "y = sym.Function('y')(x)\n",
    "eq = sym.Eq( sym.diff(y, x), x*sqrt(y))\n",
    "sym.dsolve(eq)\n",
    "sym.factor(dsolve(eq))"
   ]
  },
  {
   "cell_type": "code",
   "execution_count": 31,
   "id": "851e0ded",
   "metadata": {},
   "outputs": [
    {
     "data": {
      "image/png": "[encoded data removed]",
      "text/latex": [
       "$\\displaystyle \\log{\\left(y - 1 \\right)}$"
      ],
      "text/plain": [
       "log(y - 1)"
      ]
     },
     "execution_count": 31,
     "metadata": {},
     "output_type": "execute_result"
    }
   ],
   "source": [
    "sym.integrate(1/(y-1))"
   ]
  },
  {
   "cell_type": "code",
   "execution_count": 33,
   "id": "4b26c9ae",
   "metadata": {},
   "outputs": [
    {
     "data": {
      "image/png": "[encoded data removed]",
      "text/latex": [
       "$\\displaystyle \\log{\\left(x \\right)}$"
      ],
      "text/plain": [
       "log(x)"
      ]
     },
     "execution_count": 33,
     "metadata": {},
     "output_type": "execute_result"
    }
   ],
   "source": [
    "sym.integrate(1/x)"
   ]
  },
  {
   "cell_type": "code",
   "execution_count": 34,
   "id": "8602deb4",
   "metadata": {},
   "outputs": [
    {
     "data": {
      "image/png": "[encoded data removed]",
      "text/latex": [
       "$\\displaystyle \\log{\\left(y \\right)}$"
      ],
      "text/plain": [
       "log(y)"
      ]
     },
     "execution_count": 34,
     "metadata": {},
     "output_type": "execute_result"
    }
   ],
   "source": [
    "sym.integrate(1/y)"
   ]
  },
  {
   "cell_type": "code",
   "execution_count": 36,
   "id": "3d301305",
   "metadata": {},
   "outputs": [
    {
     "data": {
      "image/png": "[encoded data removed]",
      "text/latex": [
       "$\\displaystyle \\frac{\\log{\\left(2 x + 1 \\right)}}{2}$"
      ],
      "text/plain": [
       "log(2⋅x + 1)\n",
       "────────────\n",
       "     2      "
      ]
     },
     "execution_count": 36,
     "metadata": {},
     "output_type": "execute_result"
    }
   ],
   "source": [
    "sym.integrate(1/(2*x+1))"
   ]
  },
  {
   "cell_type": "markdown",
   "id": "0ccc8b80",
   "metadata": {},
   "source": [
    "sym.integrate(1/y)"
   ]
  },
  {
   "cell_type": "code",
   "execution_count": 37,
   "id": "c07c713b",
   "metadata": {},
   "outputs": [
    {
     "data": {
      "image/png": "[encoded data removed]",
      "text/latex": [
       "$\\displaystyle \\log{\\left(y \\right)}$"
      ],
      "text/plain": [
       "log(y)"
      ]
     },
     "execution_count": 37,
     "metadata": {},
     "output_type": "execute_result"
    }
   ],
   "source": [
    "sym.integrate(1/y)"
   ]
  },
  {
   "cell_type": "code",
   "execution_count": 38,
   "id": "300fe45c",
   "metadata": {},
   "outputs": [
    {
     "data": {
      "image/png": "[encoded data removed]",
      "text/latex": [
       "$\\displaystyle \\log{\\left(x \\right)}$"
      ],
      "text/plain": [
       "log(x)"
      ]
     },
     "execution_count": 38,
     "metadata": {},
     "output_type": "execute_result"
    }
   ],
   "source": [
    "sym.integrate(1/x)"
   ]
  },
  {
   "cell_type": "code",
   "execution_count": 39,
   "id": "a49e4667",
   "metadata": {},
   "outputs": [
    {
     "data": {
      "image/png": "[encoded data removed]",
      "text/latex": [
       "$\\displaystyle \\log{\\left(y \\right)}$"
      ],
      "text/plain": [
       "log(y)"
      ]
     },
     "execution_count": 39,
     "metadata": {},
     "output_type": "execute_result"
    }
   ],
   "source": [
    "sym.integrate(1/y)"
   ]
  },
  {
   "cell_type": "code",
   "execution_count": 40,
   "id": "7520fae7",
   "metadata": {},
   "outputs": [
    {
     "data": {
      "image/png": "[encoded data removed]",
      "text/latex": [
       "$\\displaystyle - \\cos{\\left(x \\right)}$"
      ],
      "text/plain": [
       "-cos(x)"
      ]
     },
     "execution_count": 40,
     "metadata": {},
     "output_type": "execute_result"
    }
   ],
   "source": [
    "sym.integrate(sin(x))"
   ]
  },
  {
   "cell_type": "code",
   "execution_count": 48,
   "id": "d6c978c1",
   "metadata": {},
   "outputs": [],
   "source": [
    "x=sym.Symbol(\"x\")"
   ]
  },
  {
   "cell_type": "code",
   "execution_count": 49,
   "id": "cc717a7c",
   "metadata": {},
   "outputs": [],
   "source": [
    "f=sym.Function(\"f\")"
   ]
  },
  {
   "cell_type": "code",
   "execution_count": 51,
   "id": "11068798",
   "metadata": {},
   "outputs": [
    {
     "data": {
      "image/png": "[encoded data removed]",
      "text/latex": [
       "$\\displaystyle \\frac{d}{d x} f{\\left(x \\right)} = x + f{\\left(x \\right)}$"
      ],
      "text/plain": [
       "d                  \n",
       "──(f(x)) = x + f(x)\n",
       "dx                 "
      ]
     },
     "execution_count": 51,
     "metadata": {},
     "output_type": "execute_result"
    }
   ],
   "source": [
    "eq=sym.Eq(f(x).diff(x,1),f(x)+x)\n",
    "eq"
   ]
  },
  {
   "cell_type": "code",
   "execution_count": 52,
   "id": "aaf66170",
   "metadata": {},
   "outputs": [
    {
     "data": {
      "image/png": "[encoded data removed]",
      "text/latex": [
       "$\\displaystyle f{\\left(x \\right)} = \\left(C_{1} + \\left(- x - 1\\right) e^{- x}\\right) e^{x}$"
      ],
      "text/plain": [
       "       ⎛               -x⎞  x\n",
       "f(x) = ⎝C₁ + (-x - 1)⋅ℯ  ⎠⋅ℯ "
      ]
     },
     "execution_count": 52,
     "metadata": {},
     "output_type": "execute_result"
    }
   ],
   "source": [
    "ans=sym.dsolve(eq)\n",
    "ans"
   ]
  },
  {
   "cell_type": "code",
   "execution_count": 53,
   "id": "52bb51ed",
   "metadata": {},
   "outputs": [
    {
     "data": {
      "image/png": "[encoded data removed]",
      "text/latex": [
       "$\\displaystyle \\frac{d}{d x} f{\\left(x \\right)} = 2 f{\\left(x \\right)} + e^{x}$"
      ],
      "text/plain": [
       "d                    x\n",
       "──(f(x)) = 2⋅f(x) + ℯ \n",
       "dx                    "
      ]
     },
     "execution_count": 53,
     "metadata": {},
     "output_type": "execute_result"
    }
   ],
   "source": [
    "eq=sym.Eq(f(x).diff(x,1),2*f(x)+exp(x))\n",
    "eq"
   ]
  },
  {
   "cell_type": "code",
   "execution_count": 54,
   "id": "5c22b820",
   "metadata": {},
   "outputs": [
    {
     "data": {
      "image/png": "[encoded data removed]",
      "text/latex": [
       "$\\displaystyle f{\\left(x \\right)} = \\left(C_{1} - e^{- x}\\right) e^{2 x}$"
      ],
      "text/plain": [
       "       ⎛      -x⎞  2⋅x\n",
       "f(x) = ⎝C₁ - ℯ  ⎠⋅ℯ   "
      ]
     },
     "execution_count": 54,
     "metadata": {},
     "output_type": "execute_result"
    }
   ],
   "source": [
    "ans=sym.dsolve(eq)\n",
    "ans"
   ]
  },
  {
   "cell_type": "code",
   "execution_count": 55,
   "id": "a1c4d2e9",
   "metadata": {},
   "outputs": [
    {
     "data": {
      "image/png": "[encoded data removed]",
      "text/latex": [
       "$\\displaystyle \\frac{d}{d x} f{\\left(x \\right)} = 1 + \\frac{2 f{\\left(x \\right)}}{x}$"
      ],
      "text/plain": [
       "d              2⋅f(x)\n",
       "──(f(x)) = 1 + ──────\n",
       "dx               x   "
      ]
     },
     "execution_count": 55,
     "metadata": {},
     "output_type": "execute_result"
    }
   ],
   "source": [
    "eq=sym.Eq(f(x).diff(x,1),(2*f(x))/x+1)\n",
    "eq"
   ]
  },
  {
   "cell_type": "code",
   "execution_count": 56,
   "id": "60866ca6",
   "metadata": {},
   "outputs": [
    {
     "data": {
      "image/png": "[encoded data removed]",
      "text/latex": [
       "$\\displaystyle f{\\left(x \\right)} = x \\left(C_{1} x - 1\\right)$"
      ],
      "text/plain": [
       "f(x) = x⋅(C₁⋅x - 1)"
      ]
     },
     "execution_count": 56,
     "metadata": {},
     "output_type": "execute_result"
    }
   ],
   "source": [
    "ans=sym.dsolve(eq)\n",
    "ans"
   ]
  },
  {
   "cell_type": "code",
   "execution_count": 58,
   "id": "777e444a",
   "metadata": {},
   "outputs": [
    {
     "data": {
      "image/png": "[encoded data removed]",
      "text/latex": [
       "$\\displaystyle \\frac{d}{d x} f{\\left(x \\right)} = - f{\\left(x \\right)} \\sin{\\left(x \\right)} + \\sin{\\left(x \\right)}$"
      ],
      "text/plain": [
       "d                               \n",
       "──(f(x)) = -f(x)⋅sin(x) + sin(x)\n",
       "dx                              "
      ]
     },
     "execution_count": 58,
     "metadata": {},
     "output_type": "execute_result"
    }
   ],
   "source": [
    "eq=sym.Eq(f(x).diff(x,1),-f(x)*sin(x)+sin(x))\n",
    "eq"
   ]
  },
  {
   "cell_type": "code",
   "execution_count": 59,
   "id": "af29214a",
   "metadata": {},
   "outputs": [
    {
     "data": {
      "image/png": "[encoded data removed]",
      "text/latex": [
       "$\\displaystyle f{\\left(x \\right)} = C_{1} e^{\\cos{\\left(x \\right)}} + 1$"
      ],
      "text/plain": [
       "           cos(x)    \n",
       "f(x) = C₁⋅ℯ       + 1"
      ]
     },
     "execution_count": 59,
     "metadata": {},
     "output_type": "execute_result"
    }
   ],
   "source": [
    "ans=sym.dsolve(eq)\n",
    "ans"
   ]
  },
  {
   "cell_type": "code",
   "execution_count": 61,
   "id": "f3ebaaec",
   "metadata": {},
   "outputs": [
    {
     "data": {
      "image/png": "[encoded data removed]",
      "text/latex": [
       "$\\displaystyle \\frac{d}{d x} f{\\left(x \\right)} = x \\sqrt{f{\\left(x \\right)}}$"
      ],
      "text/plain": [
       "d              ______\n",
       "──(f(x)) = x⋅╲╱ f(x) \n",
       "dx                   "
      ]
     },
     "execution_count": 61,
     "metadata": {},
     "output_type": "execute_result"
    }
   ],
   "source": [
    "eq=sym.Eq(f(x).diff(x,1),x*sqrt(f(x)))\n",
    "eq"
   ]
  },
  {
   "cell_type": "code",
   "execution_count": 62,
   "id": "dccc4d66",
   "metadata": {},
   "outputs": [
    {
     "data": {
      "image/png": "[encoded data removed]",
      "text/latex": [
       "$\\displaystyle f{\\left(x \\right)} = \\frac{C_{1}^{2}}{4} + \\frac{C_{1} x^{2}}{4} + \\frac{x^{4}}{16}$"
      ],
      "text/plain": [
       "         2       2    4\n",
       "       C₁    C₁⋅x    x \n",
       "f(x) = ─── + ───── + ──\n",
       "        4      4     16"
      ]
     },
     "execution_count": 62,
     "metadata": {},
     "output_type": "execute_result"
    }
   ],
   "source": [
    "ans=sym.dsolve(eq)\n",
    "ans"
   ]
  },
  {
   "cell_type": "code",
   "execution_count": 64,
   "id": "6d5410ab",
   "metadata": {},
   "outputs": [
    {
     "data": {
      "image/png": "[encoded data removed]",
      "text/latex": [
       "$\\displaystyle f{\\left(x \\right)} = \\frac{\\left(2 C_{1} + x^{2}\\right)^{2}}{16}$"
      ],
      "text/plain": [
       "                  2\n",
       "       ⎛        2⎞ \n",
       "       ⎝2⋅C₁ + x ⎠ \n",
       "f(x) = ────────────\n",
       "            16     "
      ]
     },
     "execution_count": 64,
     "metadata": {},
     "output_type": "execute_result"
    }
   ],
   "source": [
    "sym.factor(ans)"
   ]
  },
  {
   "cell_type": "code",
   "execution_count": 69,
   "id": "2eaf7964",
   "metadata": {},
   "outputs": [
    {
     "data": {
      "image/png": "[encoded data removed]",
      "text/latex": [
       "$\\displaystyle 0 = \\left(1 - \\frac{f{\\left(x \\right)}}{x}\\right) \\frac{d}{d x} f{\\left(x \\right)} + \\frac{f^{2}{\\left(x \\right)}}{x^{2}}$"
      ],
      "text/plain": [
       "                           2   \n",
       "    ⎛    f(x)⎞ d          f (x)\n",
       "0 = ⎜1 - ────⎟⋅──(f(x)) + ─────\n",
       "    ⎝     x  ⎠ dx            2 \n",
       "                            x  "
      ]
     },
     "execution_count": 69,
     "metadata": {},
     "output_type": "execute_result"
    }
   ],
   "source": [
    "eq=sym.Eq(0,(f(x)**2)/(x**2)+f(x).diff(x,1)*(1-(f(x)/x)))\n",
    "eq"
   ]
  },
  {
   "cell_type": "code",
   "execution_count": 70,
   "id": "d9e1a36a",
   "metadata": {},
   "outputs": [
    {
     "data": {
      "image/png": "[encoded data removed]",
      "text/latex": [
       "$\\displaystyle f{\\left(x \\right)} = - x W\\left(\\frac{C_{1}}{x}\\right)$"
      ],
      "text/plain": [
       "           ⎛C₁⎞\n",
       "f(x) = -x⋅W⎜──⎟\n",
       "           ⎝x ⎠"
      ]
     },
     "execution_count": 70,
     "metadata": {},
     "output_type": "execute_result"
    }
   ],
   "source": [
    "ans=sym.dsolve(eq)\n",
    "ans"
   ]
  },
  {
   "cell_type": "code",
   "execution_count": 72,
   "id": "761c4ea5",
   "metadata": {},
   "outputs": [
    {
     "data": {
      "image/png": "[encoded data removed]",
      "text/latex": [
       "$\\displaystyle 0 = x \\tan{\\left(\\frac{f{\\left(x \\right)}}{x} \\right)} + x \\frac{d}{d x} f{\\left(x \\right)} - f{\\left(x \\right)}$"
      ],
      "text/plain": [
       "         ⎛f(x)⎞     d              \n",
       "0 = x⋅tan⎜────⎟ + x⋅──(f(x)) - f(x)\n",
       "         ⎝ x  ⎠     dx             "
      ]
     },
     "execution_count": 72,
     "metadata": {},
     "output_type": "execute_result"
    }
   ],
   "source": [
    "eq=sym.Eq(0,x*tan(f(x)/x)-f(x)+x*f(x).diff(x,1))\n",
    "eq"
   ]
  },
  {
   "cell_type": "code",
   "execution_count": 73,
   "id": "ef525f0a",
   "metadata": {},
   "outputs": [
    {
     "data": {
      "image/png": "[encoded data removed]",
      "text/latex": [
       "$\\displaystyle \\left[ f{\\left(x \\right)} = x \\left(\\pi - \\operatorname{asin}{\\left(\\frac{C_{1}}{x} \\right)}\\right), \\  f{\\left(x \\right)} = x \\operatorname{asin}{\\left(\\frac{C_{1}}{x} \\right)}\\right]$"
      ],
      "text/plain": [
       "⎡         ⎛        ⎛C₁⎞⎞               ⎛C₁⎞⎤\n",
       "⎢f(x) = x⋅⎜π - asin⎜──⎟⎟, f(x) = x⋅asin⎜──⎟⎥\n",
       "⎣         ⎝        ⎝x ⎠⎠               ⎝x ⎠⎦"
      ]
     },
     "execution_count": 73,
     "metadata": {},
     "output_type": "execute_result"
    }
   ],
   "source": [
    "ans=sym.dsolve(eq)\n",
    "ans"
   ]
  },
  {
   "cell_type": "code",
   "execution_count": 75,
   "id": "c07ea0f1",
   "metadata": {},
   "outputs": [
    {
     "data": {
      "image/png": "[encoded data removed]",
      "text/latex": [
       "$\\displaystyle \\frac{d}{d x} f{\\left(x \\right)} = \\frac{x f{\\left(x \\right)} + f^{2}{\\left(x \\right)}}{x^{2}}$"
      ],
      "text/plain": [
       "                     2   \n",
       "d          x⋅f(x) + f (x)\n",
       "──(f(x)) = ──────────────\n",
       "dx                2      \n",
       "                 x       "
      ]
     },
     "execution_count": 75,
     "metadata": {},
     "output_type": "execute_result"
    }
   ],
   "source": [
    "eq=sym.Eq(f(x).diff(x,1),((x*f(x)+f(x)**2)/(x**2)))\n",
    "eq"
   ]
  },
  {
   "cell_type": "code",
   "execution_count": 76,
   "id": "51d5c8ed",
   "metadata": {},
   "outputs": [
    {
     "data": {
      "image/png": "[encoded data removed]",
      "text/latex": [
       "$\\displaystyle f{\\left(x \\right)} = \\frac{x}{C_{1} - \\log{\\left(x \\right)}}$"
      ],
      "text/plain": [
       "            x     \n",
       "f(x) = ───────────\n",
       "       C₁ - log(x)"
      ]
     },
     "execution_count": 76,
     "metadata": {},
     "output_type": "execute_result"
    }
   ],
   "source": [
    "ans=sym.dsolve(eq)\n",
    "ans"
   ]
  },
  {
   "cell_type": "code",
   "execution_count": 77,
   "id": "3b35906d",
   "metadata": {},
   "outputs": [
    {
     "data": {
      "image/png": "[encoded data removed]",
      "text/latex": [
       "$\\displaystyle \\frac{d}{d x} f{\\left(x \\right)} = x f^{3}{\\left(x \\right)} + \\frac{f{\\left(x \\right)}}{x}$"
      ],
      "text/plain": [
       "d             3      f(x)\n",
       "──(f(x)) = x⋅f (x) + ────\n",
       "dx                    x  "
      ]
     },
     "execution_count": 77,
     "metadata": {},
     "output_type": "execute_result"
    }
   ],
   "source": [
    "eq=sym.Eq(f(x).diff(x,1),(1/x)*f(x)+x*(f(x)**3))\n",
    "eq"
   ]
  },
  {
   "cell_type": "code",
   "execution_count": 78,
   "id": "8e07d07d",
   "metadata": {},
   "outputs": [
    {
     "data": {
      "image/png": "[encoded data removed]",
      "text/latex": [
       "$\\displaystyle \\left[ f{\\left(x \\right)} = - \\sqrt{2} x \\sqrt{\\frac{1}{C_{1} - x^{4}}}, \\  f{\\left(x \\right)} = \\sqrt{2} x \\sqrt{\\frac{1}{C_{1} - x^{4}}}\\right]$"
      ],
      "text/plain": [
       "⎡                  _________                   _________⎤\n",
       "⎢                 ╱    1                      ╱    1    ⎥\n",
       "⎢f(x) = -√2⋅x⋅   ╱  ─────── , f(x) = √2⋅x⋅   ╱  ─────── ⎥\n",
       "⎢               ╱         4                 ╱         4 ⎥\n",
       "⎣             ╲╱    C₁ - x                ╲╱    C₁ - x  ⎦"
      ]
     },
     "execution_count": 78,
     "metadata": {},
     "output_type": "execute_result"
    }
   ],
   "source": [
    "ans=sym.dsolve(eq)\n",
    "ans"
   ]
  },
  {
   "cell_type": "code",
   "execution_count": 80,
   "id": "bfb109d2",
   "metadata": {},
   "outputs": [
    {
     "data": {
      "image/png": "[encoded data removed]",
      "text/latex": [
       "$\\displaystyle \\frac{d}{d x} f{\\left(x \\right)} = f^{2}{\\left(x \\right)} \\cos{\\left(x \\right)} - f{\\left(x \\right)} \\cos{\\left(x \\right)}$"
      ],
      "text/plain": [
       "d           2                        \n",
       "──(f(x)) = f (x)⋅cos(x) - f(x)⋅cos(x)\n",
       "dx                                   "
      ]
     },
     "execution_count": 80,
     "metadata": {},
     "output_type": "execute_result"
    }
   ],
   "source": [
    "eq=sym.Eq(f(x).diff(x,1),-f(x)*cos(x)+(f(x)**2)*cos(x))\n",
    "eq"
   ]
  },
  {
   "cell_type": "code",
   "execution_count": 81,
   "id": "5a983d17",
   "metadata": {},
   "outputs": [
    {
     "data": {
      "image/png": "[encoded data removed]",
      "text/latex": [
       "$\\displaystyle f{\\left(x \\right)} = \\frac{1}{C_{1} e^{\\sin{\\left(x \\right)}} + 1}$"
      ],
      "text/plain": [
       "             1       \n",
       "f(x) = ──────────────\n",
       "           sin(x)    \n",
       "       C₁⋅ℯ       + 1"
      ]
     },
     "execution_count": 81,
     "metadata": {},
     "output_type": "execute_result"
    }
   ],
   "source": [
    "ans=sym.dsolve(eq)\n",
    "ans"
   ]
  },
  {
   "cell_type": "code",
   "execution_count": 84,
   "id": "241cf6b1",
   "metadata": {},
   "outputs": [
    {
     "data": {
      "text/plain": [
       "y"
      ]
     },
     "execution_count": 84,
     "metadata": {},
     "output_type": "execute_result"
    }
   ],
   "source": [
    "y=sym.Function(\"y\")\n",
    "y"
   ]
  },
  {
   "cell_type": "code",
   "execution_count": 87,
   "id": "94c41aa6",
   "metadata": {},
   "outputs": [
    {
     "data": {
      "image/png": "[encoded data removed]",
      "text/latex": [
       "$\\displaystyle 0 = - \\frac{\\left(8 x^{3} + 3 x^{2} y^{2}{\\left(x \\right)}\\right) \\frac{d}{d x} y{\\left(x \\right)}}{2 x^{3} y{\\left(x \\right)} + 3 y^{2}{\\left(x \\right)}}$"
      ],
      "text/plain": [
       "     ⎛   3      2  2   ⎞ d        \n",
       "    -⎝8⋅x  + 3⋅x ⋅y (x)⎠⋅──(y(x)) \n",
       "                         dx       \n",
       "0 = ──────────────────────────────\n",
       "            3           2         \n",
       "         2⋅x ⋅y(x) + 3⋅y (x)      "
      ]
     },
     "execution_count": 87,
     "metadata": {},
     "output_type": "execute_result"
    }
   ],
   "source": [
    "eq=sym.Eq(0,-((3*(x**2)*(y(x)**2)+8*(x**3))/(3*(y(x)**2)+2*(x**3)*y(x)))*y(x).diff(x,1))\n",
    "eq"
   ]
  },
  {
   "cell_type": "code",
   "execution_count": 88,
   "id": "a457dbc8",
   "metadata": {},
   "outputs": [
    {
     "data": {
      "image/png": "[encoded data removed]",
      "text/latex": [
       "$\\displaystyle \\left[ y{\\left(x \\right)} = - \\frac{2 \\sqrt{6} \\sqrt{- x}}{3}, \\  y{\\left(x \\right)} = \\frac{2 \\sqrt{6} \\sqrt{- x}}{3}, \\  y{\\left(x \\right)} = C_{1}\\right]$"
      ],
      "text/plain": [
       "⎡               ____                 ____           ⎤\n",
       "⎢       -2⋅√6⋅╲╱ -x           2⋅√6⋅╲╱ -x            ⎥\n",
       "⎢y(x) = ─────────────, y(x) = ───────────, y(x) = C₁⎥\n",
       "⎣             3                    3                ⎦"
      ]
     },
     "execution_count": 88,
     "metadata": {},
     "output_type": "execute_result"
    }
   ],
   "source": [
    "ans=sym.dsolve(eq)\n",
    "ans"
   ]
  },
  {
   "cell_type": "code",
   "execution_count": 105,
   "id": "367664ca",
   "metadata": {},
   "outputs": [
    {
     "data": {
      "image/png": "[encoded data removed]",
      "text/latex": [
       "$\\displaystyle 0 = - 3 f{\\left(x \\right)} - 2 \\frac{d}{d x} f{\\left(x \\right)} + \\frac{d^{2}}{d x^{2}} f{\\left(x \\right)}$"
      ],
      "text/plain": [
       "                             2      \n",
       "                d           d       \n",
       "0 = -3⋅f(x) - 2⋅──(f(x)) + ───(f(x))\n",
       "                dx           2      \n",
       "                           dx       "
      ]
     },
     "execution_count": 105,
     "metadata": {},
     "output_type": "execute_result"
    }
   ],
   "source": [
    "#f=sym.Function(\"f\")\n",
    "eq=sym.Eq(0,f(x).diff(x,2)-2*f(x).diff(x,1)-3*f(x))\n",
    "eq"
   ]
  },
  {
   "cell_type": "code",
   "execution_count": 106,
   "id": "e3c39e9a",
   "metadata": {},
   "outputs": [
    {
     "data": {
      "image/png": "[encoded data removed]",
      "text/latex": [
       "$\\displaystyle f{\\left(x \\right)} = C_{1} e^{- x} + C_{2} e^{3 x}$"
      ],
      "text/plain": [
       "           -x       3⋅x\n",
       "f(x) = C₁⋅ℯ   + C₂⋅ℯ   "
      ]
     },
     "execution_count": 106,
     "metadata": {},
     "output_type": "execute_result"
    }
   ],
   "source": [
    "ans=sym.dsolve(eq)\n",
    "ans"
   ]
  },
  {
   "cell_type": "code",
   "execution_count": 103,
   "id": "465abfa3",
   "metadata": {},
   "outputs": [
    {
     "data": {
      "image/png": "[encoded data removed]",
      "text/latex": [
       "$\\displaystyle 0 = f{\\left(x \\right)} + 2 \\frac{d}{d x} f{\\left(x \\right)} + \\frac{d^{2}}{d x^{2}} f{\\left(x \\right)}$"
      ],
      "text/plain": [
       "                          2      \n",
       "             d           d       \n",
       "0 = f(x) + 2⋅──(f(x)) + ───(f(x))\n",
       "             dx           2      \n",
       "                        dx       "
      ]
     },
     "execution_count": 103,
     "metadata": {},
     "output_type": "execute_result"
    }
   ],
   "source": [
    "eq=sym.Eq(0,f(x).diff(x,2)+2*f(x).diff(x,1)+f(x))\n",
    "eq"
   ]
  },
  {
   "cell_type": "code",
   "execution_count": 104,
   "id": "141db285",
   "metadata": {},
   "outputs": [
    {
     "data": {
      "image/png": "[encoded data removed]",
      "text/latex": [
       "$\\displaystyle f{\\left(x \\right)} = \\left(C_{1} + C_{2} x\\right) e^{- x}$"
      ],
      "text/plain": [
       "                    -x\n",
       "f(x) = (C₁ + C₂⋅x)⋅ℯ  "
      ]
     },
     "execution_count": 104,
     "metadata": {},
     "output_type": "execute_result"
    }
   ],
   "source": [
    "ans=sym.dsolve(eq)\n",
    "ans"
   ]
  },
  {
   "cell_type": "code",
   "execution_count": 109,
   "id": "be3c0d97",
   "metadata": {},
   "outputs": [
    {
     "data": {
      "image/png": "[encoded data removed]",
      "text/latex": [
       "$\\displaystyle 0 = f{\\left(x \\right)} + \\frac{d^{2}}{d x^{2}} f{\\left(x \\right)}$"
      ],
      "text/plain": [
       "             2      \n",
       "            d       \n",
       "0 = f(x) + ───(f(x))\n",
       "             2      \n",
       "           dx       "
      ]
     },
     "execution_count": 109,
     "metadata": {},
     "output_type": "execute_result"
    }
   ],
   "source": [
    "eq=sym.Eq(0,f(x).diff(x,2)+f(x))\n",
    "eq"
   ]
  },
  {
   "cell_type": "code",
   "execution_count": 110,
   "id": "266c64bb",
   "metadata": {},
   "outputs": [
    {
     "data": {
      "image/png": "[encoded data removed]",
      "text/latex": [
       "$\\displaystyle f{\\left(x \\right)} = C_{1} \\sin{\\left(x \\right)} + C_{2} \\cos{\\left(x \\right)}$"
      ],
      "text/plain": [
       "f(x) = C₁⋅sin(x) + C₂⋅cos(x)"
      ]
     },
     "execution_count": 110,
     "metadata": {},
     "output_type": "execute_result"
    }
   ],
   "source": [
    "ans=sym.dsolve(eq)\n",
    "ans"
   ]
  },
  {
   "cell_type": "code",
   "execution_count": 112,
   "id": "0643dfdd",
   "metadata": {},
   "outputs": [
    {
     "data": {
      "image/png": "[encoded data removed]",
      "text/latex": [
       "$\\displaystyle \\frac{d}{d x} f{\\left(x \\right)}$"
      ],
      "text/plain": [
       "d       \n",
       "──(f(x))\n",
       "dx      "
      ]
     },
     "execution_count": 112,
     "metadata": {},
     "output_type": "execute_result"
    }
   ],
   "source": [
    "sym.diff(f(x),x)"
   ]
  },
  {
   "cell_type": "code",
   "execution_count": 113,
   "id": "c47a734b",
   "metadata": {},
   "outputs": [
    {
     "data": {
      "image/png": "[encoded data removed]",
      "text/latex": [
       "$\\displaystyle 0 = 6 f{\\left(x \\right)} - 5 \\frac{d}{d x} f{\\left(x \\right)} - 2 \\frac{d^{2}}{d x^{2}} f{\\left(x \\right)} + \\frac{d^{3}}{d x^{3}} f{\\left(x \\right)}$"
      ],
      "text/plain": [
       "                              2           3      \n",
       "               d             d           d       \n",
       "0 = 6⋅f(x) - 5⋅──(f(x)) - 2⋅───(f(x)) + ───(f(x))\n",
       "               dx             2           3      \n",
       "                            dx          dx       "
      ]
     },
     "execution_count": 113,
     "metadata": {},
     "output_type": "execute_result"
    }
   ],
   "source": [
    "eq=sym.Eq(0,f(x).diff(x,3)-2*f(x).diff(x,2)-5*f(x).diff(x,1)+6*f(x))\n",
    "eq"
   ]
  },
  {
   "cell_type": "code",
   "execution_count": 114,
   "id": "b0c697d1",
   "metadata": {},
   "outputs": [
    {
     "data": {
      "image/png": "[encoded data removed]",
      "text/latex": [
       "$\\displaystyle f{\\left(x \\right)} = C_{1} e^{- 2 x} + C_{2} e^{x} + C_{3} e^{3 x}$"
      ],
      "text/plain": [
       "           -2⋅x       x       3⋅x\n",
       "f(x) = C₁⋅ℯ     + C₂⋅ℯ  + C₃⋅ℯ   "
      ]
     },
     "execution_count": 114,
     "metadata": {},
     "output_type": "execute_result"
    }
   ],
   "source": [
    "ans=sym.dsolve(eq)\n",
    "ans"
   ]
  },
  {
   "cell_type": "code",
   "execution_count": 115,
   "id": "643c7b5c",
   "metadata": {},
   "outputs": [
    {
     "data": {
      "image/png": "[encoded data removed]",
      "text/latex": [
       "$\\displaystyle t$"
      ],
      "text/plain": [
       "t"
      ]
     },
     "execution_count": 115,
     "metadata": {},
     "output_type": "execute_result"
    }
   ],
   "source": [
    "t=sym.Symbol(\"t\")\n",
    "t"
   ]
  },
  {
   "cell_type": "code",
   "execution_count": 117,
   "id": "d560751a",
   "metadata": {},
   "outputs": [
    {
     "data": {
      "image/png": "[encoded data removed]",
      "text/latex": [
       "$\\displaystyle 0 = y$"
      ],
      "text/plain": [
       "0 = y"
      ]
     },
     "execution_count": 117,
     "metadata": {},
     "output_type": "execute_result"
    }
   ],
   "source": [
    "y=sym.Symbol(\"y\")\n",
    "eq=sym.Eq(x.diff(t,1),y)\n",
    "eq"
   ]
  },
  {
   "cell_type": "code",
   "execution_count": 119,
   "id": "bdb40eab",
   "metadata": {},
   "outputs": [
    {
     "ename": "ValueError",
     "evalue": "The function cannot be automatically detected for -y.",
     "output_type": "error",
     "traceback": [
      "\u001b[1;31m---------------------------------------------------------------------------\u001b[0m",
      "\u001b[1;31mValueError\u001b[0m                                Traceback (most recent call last)",
      "\u001b[1;32m<ipython-input-119-266c0003ced7>\u001b[0m in \u001b[0;36m<module>\u001b[1;34m\u001b[0m\n\u001b[1;32m----> 1\u001b[1;33m \u001b[0mans\u001b[0m\u001b[1;33m=\u001b[0m\u001b[0msym\u001b[0m\u001b[1;33m.\u001b[0m\u001b[0mdsolve\u001b[0m\u001b[1;33m(\u001b[0m\u001b[0meq\u001b[0m\u001b[1;33m)\u001b[0m\u001b[1;33m\u001b[0m\u001b[1;33m\u001b[0m\u001b[0m\n\u001b[0m",
      "\u001b[1;32m~\\anaconda3\\lib\\site-packages\\sympy\\solvers\\ode\\ode.py\u001b[0m in \u001b[0;36mdsolve\u001b[1;34m(eq, func, hint, simplify, ics, xi, eta, x0, n, **kwargs)\u001b[0m\n\u001b[0;32m    627\u001b[0m \u001b[1;33m\u001b[0m\u001b[0m\n\u001b[0;32m    628\u001b[0m         \u001b[1;31m# See the docstring of _desolve for more details.\u001b[0m\u001b[1;33m\u001b[0m\u001b[1;33m\u001b[0m\u001b[1;33m\u001b[0m\u001b[0m\n\u001b[1;32m--> 629\u001b[1;33m         hints = _desolve(eq, func=func,\n\u001b[0m\u001b[0;32m    630\u001b[0m             \u001b[0mhint\u001b[0m\u001b[1;33m=\u001b[0m\u001b[0mhint\u001b[0m\u001b[1;33m,\u001b[0m \u001b[0msimplify\u001b[0m\u001b[1;33m=\u001b[0m\u001b[1;32mTrue\u001b[0m\u001b[1;33m,\u001b[0m \u001b[0mxi\u001b[0m\u001b[1;33m=\u001b[0m\u001b[0mxi\u001b[0m\u001b[1;33m,\u001b[0m \u001b[0meta\u001b[0m\u001b[1;33m=\u001b[0m\u001b[0meta\u001b[0m\u001b[1;33m,\u001b[0m \u001b[0mtype\u001b[0m\u001b[1;33m=\u001b[0m\u001b[1;34m'ode'\u001b[0m\u001b[1;33m,\u001b[0m \u001b[0mics\u001b[0m\u001b[1;33m=\u001b[0m\u001b[0mics\u001b[0m\u001b[1;33m,\u001b[0m\u001b[1;33m\u001b[0m\u001b[1;33m\u001b[0m\u001b[0m\n\u001b[0;32m    631\u001b[0m             x0=x0, n=n, **kwargs)\n",
      "\u001b[1;32m~\\anaconda3\\lib\\site-packages\\sympy\\solvers\\deutils.py\u001b[0m in \u001b[0;36m_desolve\u001b[1;34m(eq, func, hint, ics, simplify, prep, **kwargs)\u001b[0m\n\u001b[0;32m    178\u001b[0m     \u001b[1;31m# preprocess the equation and find func if not given\u001b[0m\u001b[1;33m\u001b[0m\u001b[1;33m\u001b[0m\u001b[1;33m\u001b[0m\u001b[0m\n\u001b[0;32m    179\u001b[0m     \u001b[1;32mif\u001b[0m \u001b[0mprep\u001b[0m \u001b[1;32mor\u001b[0m \u001b[0mfunc\u001b[0m \u001b[1;32mis\u001b[0m \u001b[1;32mNone\u001b[0m\u001b[1;33m:\u001b[0m\u001b[1;33m\u001b[0m\u001b[1;33m\u001b[0m\u001b[0m\n\u001b[1;32m--> 180\u001b[1;33m         \u001b[0meq\u001b[0m\u001b[1;33m,\u001b[0m \u001b[0mfunc\u001b[0m \u001b[1;33m=\u001b[0m \u001b[0m_preprocess\u001b[0m\u001b[1;33m(\u001b[0m\u001b[0meq\u001b[0m\u001b[1;33m,\u001b[0m \u001b[0mfunc\u001b[0m\u001b[1;33m)\u001b[0m\u001b[1;33m\u001b[0m\u001b[1;33m\u001b[0m\u001b[0m\n\u001b[0m\u001b[0;32m    181\u001b[0m         \u001b[0mprep\u001b[0m \u001b[1;33m=\u001b[0m \u001b[1;32mFalse\u001b[0m\u001b[1;33m\u001b[0m\u001b[1;33m\u001b[0m\u001b[0m\n\u001b[0;32m    182\u001b[0m \u001b[1;33m\u001b[0m\u001b[0m\n",
      "\u001b[1;32m~\\anaconda3\\lib\\site-packages\\sympy\\solvers\\deutils.py\u001b[0m in \u001b[0;36m_preprocess\u001b[1;34m(expr, func, hint)\u001b[0m\n\u001b[0;32m     80\u001b[0m         \u001b[0mfuncs\u001b[0m \u001b[1;33m=\u001b[0m \u001b[0mset\u001b[0m\u001b[1;33m(\u001b[0m\u001b[1;33m)\u001b[0m\u001b[1;33m.\u001b[0m\u001b[0munion\u001b[0m\u001b[1;33m(\u001b[0m\u001b[1;33m*\u001b[0m\u001b[1;33m[\u001b[0m\u001b[0md\u001b[0m\u001b[1;33m.\u001b[0m\u001b[0matoms\u001b[0m\u001b[1;33m(\u001b[0m\u001b[0mAppliedUndef\u001b[0m\u001b[1;33m)\u001b[0m \u001b[1;32mfor\u001b[0m \u001b[0md\u001b[0m \u001b[1;32min\u001b[0m \u001b[0mderivs\u001b[0m\u001b[1;33m]\u001b[0m\u001b[1;33m)\u001b[0m\u001b[1;33m\u001b[0m\u001b[1;33m\u001b[0m\u001b[0m\n\u001b[0;32m     81\u001b[0m         \u001b[1;32mif\u001b[0m \u001b[0mlen\u001b[0m\u001b[1;33m(\u001b[0m\u001b[0mfuncs\u001b[0m\u001b[1;33m)\u001b[0m \u001b[1;33m!=\u001b[0m \u001b[1;36m1\u001b[0m\u001b[1;33m:\u001b[0m\u001b[1;33m\u001b[0m\u001b[1;33m\u001b[0m\u001b[0m\n\u001b[1;32m---> 82\u001b[1;33m             raise ValueError('The function cannot be '\n\u001b[0m\u001b[0;32m     83\u001b[0m                 'automatically detected for %s.' % expr)\n\u001b[0;32m     84\u001b[0m         \u001b[0mfunc\u001b[0m \u001b[1;33m=\u001b[0m \u001b[0mfuncs\u001b[0m\u001b[1;33m.\u001b[0m\u001b[0mpop\u001b[0m\u001b[1;33m(\u001b[0m\u001b[1;33m)\u001b[0m\u001b[1;33m\u001b[0m\u001b[1;33m\u001b[0m\u001b[0m\n",
      "\u001b[1;31mValueError\u001b[0m: The function cannot be automatically detected for -y."
     ]
    }
   ],
   "source": [
    "ans=sym.dsolve(eq)"
   ]
  },
  {
   "cell_type": "code",
   "execution_count": null,
   "id": "f443ba9e",
   "metadata": {},
   "outputs": [],
   "source": []
  }
 ],
 "metadata": {
  "kernelspec": {
   "display_name": "Python 3",
   "language": "python",
   "name": "python3"
  },
  "language_info": {
   "codemirror_mode": {
    "name": "ipython",
    "version": 3
   },
   "file_extension": ".py",
   "mimetype": "text/x-python",
   "name": "python",
   "nbconvert_exporter": "python",
   "pygments_lexer": "ipython3",
   "version": "3.8.8"
  }
 },
 "nbformat": 4,
 "nbformat_minor": 5
}
